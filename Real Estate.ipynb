{
 "cells": [
  {
   "cell_type": "code",
   "execution_count": 1,
   "metadata": {},
   "outputs": [],
   "source": [
    "import numpy as np\n",
    "import pandas as pd\n",
    "from sklearn.kernel_approximation import Nystroem\n",
    "from sklearn.model_selection import train_test_split\n",
    "from sklearn.pipeline import make_pipeline, make_union\n",
    "from sklearn.preprocessing import MaxAbsScaler\n",
    "from sklearn.svm import LinearSVC\n",
    "from tpot.builtins import StackingEstimator\n",
    "from sklearn.preprocessing import FunctionTransformer\n",
    "from copy import copy\n",
    "from tpot import TPOTRegressor\n",
    "from geopy.distance import geodesic"
   ]
  },
  {
   "cell_type": "code",
   "execution_count": 2,
   "metadata": {},
   "outputs": [],
   "source": [
    "tpot_data = pd.read_csv('kc_house_data.csv')\n",
    "zipcode = pd.read_excel('MedianZIP.xlsx')"
   ]
  },
  {
   "cell_type": "markdown",
   "metadata": {},
   "source": [
    "# Data Preparation"
   ]
  },
  {
   "cell_type": "code",
   "execution_count": 3,
   "metadata": {},
   "outputs": [],
   "source": [
    "tpot_data = tpot_data.drop(columns=['id','date'])"
   ]
  },
  {
   "cell_type": "code",
   "execution_count": 4,
   "metadata": {},
   "outputs": [],
   "source": [
    "seattle_coordinates = (47.6062, -122.3321)\n",
    "tpot_data['distance_from_seattle'] = tpot_data.apply(lambda x: geodesic(seattle_coordinates, (x['lat'], x['long'])).miles, axis=1)\n",
    "tpot_data = tpot_data.join(pd.get_dummies(tpot_data['grade'], prefix='grade'))\n",
    "tpot_data = tpot_data.join(pd.get_dummies(tpot_data['condition'], prefix='condition'))\n",
    "tpot_data = tpot_data.join(pd.get_dummies(tpot_data['zipcode'], prefix='zipcode'))\n",
    "tpot_data = tpot_data.drop(columns=['grade', 'zipcode', 'condition', 'lat', 'long'])\n",
    "tpot_data = tpot_data.drop(columns=['sqft_living', 'sqft_living15', 'sqft_lot15'])\n",
    "tpot_data.loc[tpot_data['yr_renovated'] != 0, 'yr_renovated'] = 1"
   ]
  },
  {
   "cell_type": "code",
   "execution_count": 5,
   "metadata": {},
   "outputs": [],
   "source": [
    "features = tpot_data.drop(columns=['price']).values\n",
    "X_train, X_test, y_train, y_test = train_test_split(features, tpot_data['price'], train_size=0.75, test_size=0.25)"
   ]
  },
  {
   "cell_type": "markdown",
   "metadata": {},
   "source": [
    "# TPOT"
   ]
  },
  {
   "cell_type": "code",
   "execution_count": 6,
   "metadata": {},
   "outputs": [
    {
     "name": "stdout",
     "output_type": "stream",
     "text": [
      "Warning: xgboost.XGBRegressor is not available and will not be used by TPOT.\n"
     ]
    },
    {
     "data": {
      "application/vnd.jupyter.widget-view+json": {
       "model_id": "",
       "version_major": 2,
       "version_minor": 0
      },
      "text/plain": [
       "HBox(children=(IntProgress(value=0, description='Optimization Progress', max=200, style=ProgressStyle(descript…"
      ]
     },
     "metadata": {},
     "output_type": "display_data"
    },
    {
     "name": "stdout",
     "output_type": "stream",
     "text": [
      "Generation 1 - Current best internal CV score: 0.8722654830831151\n",
      "Generation 2 - Current best internal CV score: 0.872448745717153\n",
      "Generation 3 - Current best internal CV score: 0.872448745717153\n",
      "\n",
      "Best pipeline: RandomForestRegressor(RidgeCV(input_matrix), bootstrap=False, max_features=0.7500000000000001, min_samples_leaf=12, min_samples_split=18, n_estimators=100)\n",
      "0.8625076783799492\n"
     ]
    }
   ],
   "source": [
    "tpot = TPOTRegressor(scoring='r2', generations=3, population_size=50, verbosity=2)\n",
    "tpot.fit(X_train, y_train)\n",
    "print(tpot.score(X_test, y_test))"
   ]
  },
  {
   "cell_type": "code",
   "execution_count": 7,
   "metadata": {},
   "outputs": [],
   "source": [
    "tpot.export('Housing.py')"
   ]
  }
 ],
 "metadata": {
  "kernelspec": {
   "display_name": "Python 3",
   "language": "python",
   "name": "python3"
  },
  "language_info": {
   "codemirror_mode": {
    "name": "ipython",
    "version": 3
   },
   "file_extension": ".py",
   "mimetype": "text/x-python",
   "name": "python",
   "nbconvert_exporter": "python",
   "pygments_lexer": "ipython3",
   "version": "3.6.5"
  }
 },
 "nbformat": 4,
 "nbformat_minor": 2
}
