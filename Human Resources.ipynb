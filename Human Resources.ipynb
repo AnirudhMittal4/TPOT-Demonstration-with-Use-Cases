{
 "cells": [
  {
   "cell_type": "code",
   "execution_count": 1,
   "metadata": {},
   "outputs": [],
   "source": [
    "import numpy as np\n",
    "import pandas as pd\n",
    "from sklearn.kernel_approximation import Nystroem\n",
    "from sklearn.model_selection import train_test_split\n",
    "from sklearn.pipeline import make_pipeline, make_union\n",
    "from sklearn.preprocessing import MaxAbsScaler\n",
    "from sklearn.svm import LinearSVC\n",
    "from tpot.builtins import StackingEstimator\n",
    "from sklearn.preprocessing import FunctionTransformer\n",
    "from copy import copy\n",
    "from tpot import TPOTClassifier"
   ]
  },
  {
   "cell_type": "markdown",
   "metadata": {},
   "source": [
    "# Data Preparation"
   ]
  },
  {
   "cell_type": "code",
   "execution_count": 2,
   "metadata": {},
   "outputs": [],
   "source": [
    "tpot_data = pd.read_csv('IBM.csv')\n",
    "tpot_data.Attrition.replace(to_replace = dict(Yes = 1, No = 0), inplace = True)\n",
    "tpot_data['Travel'] = tpot_data['BusinessTravel'].map({'Non-Travel': 0,'Travel_Frequently':1, 'Travel_Rarely':2})\n",
    "tpot_data['Dept'] = tpot_data['Department'].map({'Sales': 0,'Research & Development':1, 'Human Resources':2})\n",
    "tpot_data['gender'] = tpot_data['Gender'].map({'Male': 0,'Female':1})\n",
    "tpot_data['Role'] = tpot_data['JobRole'].map({'Sales Executive':0,'Research Scientist':1,'Laboratory Technician':2,'Manufacturing Director':3,'Healthcare Representative':4,'Manager':5,'Sales Representative':6,'Research Director':7,'Human Resources':8})\n",
    "tpot_data['EdField'] = tpot_data['EducationField'].map({'Life Sciences':0,'Other':1,'Medical':2,'Marketing':3,'Technical Degree':4,'Human Resources':5})\n",
    "tpot_data['Marital Status'] = tpot_data['MaritalStatus'].map({'Single':0,'Married':1,'Divorced':2,})\n",
    "tpot_data['OT'] = tpot_data['OverTime'].map({'No':0,'Yes':1})"
   ]
  },
  {
   "cell_type": "code",
   "execution_count": 3,
   "metadata": {},
   "outputs": [],
   "source": [
    "tpot_data = tpot_data.drop(columns=['StandardHours', 'EmployeeCount', \n",
    "                          'Over18','BusinessTravel', 'Department', 'Gender',\n",
    "                          'JobRole', 'EducationField', 'MaritalStatus', 'OverTime'])"
   ]
  },
  {
   "cell_type": "code",
   "execution_count": 4,
   "metadata": {},
   "outputs": [],
   "source": [
    "features = tpot_data.drop('Attrition', axis=1).values\n",
    "training_features, testing_features, training_target, testing_target = train_test_split(features, tpot_data['Attrition'].values, random_state=42)"
   ]
  },
  {
   "cell_type": "code",
   "execution_count": 5,
   "metadata": {},
   "outputs": [],
   "source": [
    "X_train, X_test, y_train, y_test = train_test_split(features, tpot_data['Attrition'],\n",
    "                                                    train_size=0.75, test_size=0.25)"
   ]
  },
  {
   "cell_type": "markdown",
   "metadata": {},
   "source": [
    "# TPOT"
   ]
  },
  {
   "cell_type": "code",
   "execution_count": 6,
   "metadata": {},
   "outputs": [
    {
     "name": "stdout",
     "output_type": "stream",
     "text": [
      "Warning: xgboost.XGBClassifier is not available and will not be used by TPOT.\n"
     ]
    },
    {
     "data": {
      "application/vnd.jupyter.widget-view+json": {
       "model_id": "",
       "version_major": 2,
       "version_minor": 0
      },
      "text/plain": [
       "HBox(children=(IntProgress(value=0, description='Optimization Progress', max=300, style=ProgressStyle(descript…"
      ]
     },
     "metadata": {},
     "output_type": "display_data"
    },
    {
     "name": "stdout",
     "output_type": "stream",
     "text": [
      "Generation 1 - Current best internal CV score: 0.8720320855614974\n",
      "Generation 2 - Current best internal CV score: 0.8720320855614974\n",
      "Generation 3 - Current best internal CV score: 0.8720320855614974\n",
      "Generation 4 - Current best internal CV score: 0.8720320855614974\n",
      "Generation 5 - Current best internal CV score: 0.8793089263677498\n",
      "\n",
      "Best pipeline: LogisticRegression(OneHotEncoder(OneHotEncoder(input_matrix, minimum_fraction=0.05, sparse=False, threshold=10), minimum_fraction=0.2, sparse=False, threshold=10), C=5.0, dual=False, penalty=l1)\n",
      "0.8532608695652174\n"
     ]
    }
   ],
   "source": [
    "tpot = TPOTClassifier(generations=5, population_size=50, verbosity=2)\n",
    "tpot.fit(X_train, y_train)\n",
    "print(tpot.score(X_test, y_test))"
   ]
  },
  {
   "cell_type": "code",
   "execution_count": 7,
   "metadata": {},
   "outputs": [],
   "source": [
    "tpot.export('Attrition.py')"
   ]
  }
 ],
 "metadata": {
  "kernelspec": {
   "display_name": "Python 3",
   "language": "python",
   "name": "python3"
  },
  "language_info": {
   "codemirror_mode": {
    "name": "ipython",
    "version": 3
   },
   "file_extension": ".py",
   "mimetype": "text/x-python",
   "name": "python",
   "nbconvert_exporter": "python",
   "pygments_lexer": "ipython3",
   "version": "3.6.5"
  }
 },
 "nbformat": 4,
 "nbformat_minor": 2
}
